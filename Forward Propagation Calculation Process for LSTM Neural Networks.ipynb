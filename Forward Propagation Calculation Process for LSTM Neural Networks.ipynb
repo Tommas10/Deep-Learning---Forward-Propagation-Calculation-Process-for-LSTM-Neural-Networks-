{
 "cells": [
  {
   "cell_type": "code",
   "execution_count": 1,
   "metadata": {},
   "outputs": [
    {
     "name": "stdout",
     "output_type": "stream",
     "text": [
      "before activation: [0.6 0.5]\n",
      "state: [0.53704957 0.46211716]\n",
      "output: [1.56128388]\n",
      "before activation: [1.2923401  1.39225678]\n",
      "state: [0.85973818 0.88366641]\n",
      "output: [2.72707101]\n"
     ]
    }
   ],
   "source": [
    "import numpy as np\n",
    "\n",
    "X=[1, 2]\n",
    "state=[0.0, 0.0]\n",
    "\n",
    "#分開定義不同輸入部份的加權以方便操作\n",
    "w_cell_state = np.array([[0.1, 0.2], [0.3, 0.4]])\n",
    "w_cell_input = np.array([0.5, 0.6])\n",
    "b_cell = np.array([0.1, -0.1])\n",
    "\n",
    "#定義用於輸出的全連接層參數\n",
    "w_output = np.asarray([[1.0], [2.0]])\n",
    "b_output = 0.1\n",
    "\n",
    "#按照時間循序執行循環神經網路的正向傳播過程\n",
    "for i in range(len(X)):\n",
    "    #計算循環本體中的全連接層神經網路\n",
    "    before_activation = np.dot(state, w_cell_state) + X[i] * w_cell_input + b_cell\n",
    "    state = np.tanh(before_activation)\n",
    "    \n",
    "    #根據目前時刻狀態計算最後輸出\n",
    "    final_output = np.dot(state, w_output) + b_output\n",
    "    \n",
    "    #輸出每個時刻的資訊\n",
    "    print (\"before activation:\", before_activation)\n",
    "    print (\"state:\", state)\n",
    "    print (\"output:\", final_output)"
   ]
  },
  {
   "cell_type": "code",
   "execution_count": null,
   "metadata": {},
   "outputs": [],
   "source": []
  },
  {
   "cell_type": "code",
   "execution_count": null,
   "metadata": {},
   "outputs": [],
   "source": []
  }
 ],
 "metadata": {
  "kernelspec": {
   "display_name": "Python 3",
   "language": "python",
   "name": "python3"
  },
  "language_info": {
   "codemirror_mode": {
    "name": "ipython",
    "version": 3
   },
   "file_extension": ".py",
   "mimetype": "text/x-python",
   "name": "python",
   "nbconvert_exporter": "python",
   "pygments_lexer": "ipython3",
   "version": "3.7.3"
  }
 },
 "nbformat": 4,
 "nbformat_minor": 2
}
